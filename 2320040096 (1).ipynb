{
  "nbformat": 4,
  "nbformat_minor": 0,
  "metadata": {
    "colab": {
      "provenance": []
    },
    "kernelspec": {
      "name": "python3",
      "display_name": "Python 3"
    },
    "language_info": {
      "name": "python"
    }
  },
  "cells": [
    {
      "cell_type": "code",
      "execution_count": 1,
      "metadata": {
        "colab": {
          "base_uri": "https://localhost:8080/"
        },
        "id": "-9NhWV-LHQTv",
        "outputId": "17106d1b-f20d-419d-feac-069480d75c7d"
      },
      "outputs": [
        {
          "output_type": "stream",
          "name": "stdout",
          "text": [
            "Solution found:\n",
            "Node 0: Color 1\n",
            "Node 1: Color 2\n",
            "Node 2: Color 3\n",
            "Node 3: Color 2\n",
            "Node 4: Color 1\n",
            "Node 5: Color 2\n"
          ]
        }
      ],
      "source": [
        "def is_safe(graph, colors, node, color):\n",
        "  for neighbor in graph[node]:\n",
        "    if colors[neighbor] == color:\n",
        "      return False\n",
        "  return True\n",
        "\n",
        "def graph_coloring(graph, num_colors):\n",
        "  colors = [-1] * len(graph)\n",
        "  if _graph_coloring_util(graph, num_colors, colors, 0):\n",
        "    return colors\n",
        "  else:\n",
        "    return None\n",
        "\n",
        "def _graph_coloring_util(graph, num_colors, colors, node):\n",
        "  if node == len(graph):\n",
        "    return True\n",
        "  for color in range(1, num_colors + 1):\n",
        "    if is_safe(graph, colors, node, color):\n",
        "      colors[node] = color\n",
        "      if _graph_coloring_util(graph, num_colors, colors, node + 1):\n",
        "        return True\n",
        "      colors[node] = -1\n",
        "  return False\n",
        "graph = {\n",
        "   0: [1, 2, 3],  # Node 0 is connected to Nodes 1, 2, and 3\n",
        "    1: [0, 2],     # Node 1 is connected to Nodes 0 and 2\n",
        "    2: [0, 1, 3],  # Node 2 is connected to Nodes 0, 1, and 3\n",
        "    3: [0, 2],     # Node 3 is connected to Nodes 0 and 2\n",
        "    4: [5],        # Node 4 is connected to Node 5\n",
        "    5: [4]         # Node 5 is connected to Node 4\n",
        "}\n",
        "\n",
        "# Set number of colors to 3\n",
        "num_colors = 3\n",
        "\n",
        "colors = graph_coloring(graph, num_colors)\n",
        "if colors:\n",
        "  print(\"Solution found:\")\n",
        "  for i, color in enumerate(colors):\n",
        "    print(f\"Node {i}: Color {color}\")\n",
        "else:\n",
        "  print(\"No solution found.\")"
      ]
    }
  ]
}